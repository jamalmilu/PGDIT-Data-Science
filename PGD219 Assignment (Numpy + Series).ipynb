{
 "cells": [
  {
   "cell_type": "markdown",
   "id": "351f3372",
   "metadata": {},
   "source": [
    "\n",
    "## School Exam Performance Analysis Lab\n",
    "This script analyzes student test scores and attendance data using NumPy and Pandas.\n",
    "It demonstrates data filtering, analysis, and summarization techniques."
   ]
  },
  {
   "cell_type": "code",
   "execution_count": 2,
   "id": "0a1dcc37",
   "metadata": {},
   "outputs": [],
   "source": [
    "# Import neccessary libraries\n",
    "import numpy as np\n",
    "import pandas as pd"
   ]
  },
  {
   "cell_type": "code",
   "execution_count": 3,
   "id": "02ca1887",
   "metadata": {},
   "outputs": [
    {
     "name": "stdout",
     "output_type": "stream",
     "text": [
      "================================================================================\n",
      "SCHOOL EXAM PERFORMANCE ANALYSIS LAB\n",
      "================================================================================\n"
     ]
    }
   ],
   "source": [
    "print(\"=\" * 80)\n",
    "print(\"SCHOOL EXAM PERFORMANCE ANALYSIS LAB\")\n",
    "print(\"=\" * 80)"
   ]
  },
  {
   "cell_type": "code",
   "execution_count": 4,
   "id": "8e1e8570",
   "metadata": {},
   "outputs": [],
   "source": [
    "# ============================================================================\n",
    "# SECTION A: NumPy — Student Scores Matrix\n",
    "# ============================================================================\n"
   ]
  },
  {
   "cell_type": "code",
   "execution_count": 5,
   "id": "9ab43deb",
   "metadata": {},
   "outputs": [
    {
     "name": "stdout",
     "output_type": "stream",
     "text": [
      "\n",
      "--- TASK A1: Create the Scores Matrix ---\n",
      "\n"
     ]
    }
   ],
   "source": [
    "# Task A1: Create the Scores Matrix\n",
    "print(\"\\n--- TASK A1: Create the Scores Matrix ---\\n\")"
   ]
  },
  {
   "cell_type": "code",
   "execution_count": 6,
   "id": "8ebc3714",
   "metadata": {},
   "outputs": [],
   "source": [
    "# Create a 2D array with scores for 6 students across 5 subjects\n",
    "# Subjects: Math, Science, English, History, Computers\n",
    "scores = np.array([\n",
    "    [78, 85, 88, 70, 90],   # Student 1\n",
    "    [60, 65, 70, 75, 80],   # Student 2\n",
    "    [90, 88, 85, 92, 95],   # Student 3\n",
    "    [55, 60, 58, 62, 65],   # Student 4\n",
    "    [85, 82, 80, 78, 88],   # Student 5\n",
    "    [72, 75, 78, 74, 76]    # Student 6\n",
    "])"
   ]
  },
  {
   "cell_type": "code",
   "execution_count": 7,
   "id": "eb9ea5a7",
   "metadata": {},
   "outputs": [],
   "source": [
    "subjects = [\"Math\", \"Science\", \"English\", \"History\", \"Computers\"]\n",
    "students = [\"S1\", \"S2\", \"S3\", \"S4\", \"S5\", \"S6\"]"
   ]
  },
  {
   "cell_type": "code",
   "execution_count": 8,
   "id": "aed254b1",
   "metadata": {},
   "outputs": [
    {
     "name": "stdout",
     "output_type": "stream",
     "text": [
      "Complete Scores Matrix:\n",
      "[[78 85 88 70 90]\n",
      " [60 65 70 75 80]\n",
      " [90 88 85 92 95]\n",
      " [55 60 58 62 65]\n",
      " [85 82 80 78 88]\n",
      " [72 75 78 74 76]]\n",
      "\n",
      "Subjects: ['Math', 'Science', 'English', 'History', 'Computers']\n",
      "Students: ['S1', 'S2', 'S3', 'S4', 'S5', 'S6']\n"
     ]
    }
   ],
   "source": [
    "print(\"Complete Scores Matrix:\")\n",
    "print(scores)\n",
    "print(\"\\nSubjects:\", subjects)\n",
    "print(\"Students:\", students)"
   ]
  },
  {
   "cell_type": "code",
   "execution_count": 9,
   "id": "0640bc42",
   "metadata": {},
   "outputs": [
    {
     "name": "stdout",
     "output_type": "stream",
     "text": [
      "\n",
      "--- Task 1: Scores for First 3 Students ---\n",
      "Using slicing: scores[0:3, :]\n",
      "[[78 85 88 70 90]\n",
      " [60 65 70 75 80]\n",
      " [90 88 85 92 95]]\n",
      "\n",
      "Explanation: scores[0:3, :] means:\n",
      "  - Rows 0 to 2 (first 3 students)\n",
      "  - All columns (:) means all subjects\n"
     ]
    }
   ],
   "source": [
    "# Task 1: Print scores for first 3 students\n",
    "print(\"\\n--- Task 1: Scores for First 3 Students ---\")\n",
    "print(\"Using slicing: scores[0:3, :]\")\n",
    "first_three = scores[0:3, :]\n",
    "print(first_three)\n",
    "print(\"\\nExplanation: scores[0:3, :] means:\")\n",
    "print(\"  - Rows 0 to 2 (first 3 students)\")\n",
    "print(\"  - All columns (:) means all subjects\")"
   ]
  },
  {
   "cell_type": "code",
   "execution_count": 10,
   "id": "80920c7b",
   "metadata": {},
   "outputs": [
    {
     "name": "stdout",
     "output_type": "stream",
     "text": [
      "\n",
      "--- Task 2: All Scores in English (3rd Subject) ---\n",
      "Using slicing: scores[:, 2]\n",
      "[88 70 85 58 80 78]\n",
      "\n",
      "Explanation: scores[:, 2] means:\n",
      "  - All rows (:) means all students\n",
      "  - Column 2 (3rd column, 0-indexed) is English\n"
     ]
    }
   ],
   "source": [
    "# Task 2: Print all scores in English (3rd subject)\n",
    "print(\"\\n--- Task 2: All Scores in English (3rd Subject) ---\")\n",
    "print(\"Using slicing: scores[:, 2]\")\n",
    "english_scores = scores[:, 2]\n",
    "print(english_scores)\n",
    "print(\"\\nExplanation: scores[:, 2] means:\")\n",
    "print(\"  - All rows (:) means all students\")\n",
    "print(\"  - Column 2 (3rd column, 0-indexed) is English\")"
   ]
  },
  {
   "cell_type": "code",
   "execution_count": 11,
   "id": "9702acb3",
   "metadata": {},
   "outputs": [
    {
     "name": "stdout",
     "output_type": "stream",
     "text": [
      "\n",
      "--- Task 3: Students with Computers Score > 80 ---\n",
      "Using boolean indexing: scores[scores[:, 4] > 80]\n",
      "Students with Computers score > 80:\n",
      "[[78 85 88 70 90]\n",
      " [90 88 85 92 95]\n",
      " [85 82 80 78 88]]\n",
      "\n",
      "Explanation:\n",
      "  - scores[:, 4] gets all Computers scores\n",
      "  - scores[:, 4] > 80 creates a boolean mask [True/False for each student]\n",
      "  - scores[mask] returns only rows where mask is True\n"
     ]
    }
   ],
   "source": [
    "# Task 3: Extract scores for students who scored > 80 in Computers\n",
    "print(\"\\n--- Task 3: Students with Computers Score > 80 ---\")\n",
    "print(\"Using boolean indexing: scores[scores[:, 4] > 80]\")\n",
    "computers_col = scores[:, 4]  # Get all Computers scores\n",
    "high_computer_scores = scores[computers_col > 80]\n",
    "print(\"Students with Computers score > 80:\")\n",
    "print(high_computer_scores)\n",
    "print(\"\\nExplanation:\")\n",
    "print(\"  - scores[:, 4] gets all Computers scores\")\n",
    "print(\"  - scores[:, 4] > 80 creates a boolean mask [True/False for each student]\")\n",
    "print(\"  - scores[mask] returns only rows where mask is True\")\n"
   ]
  },
  {
   "cell_type": "code",
   "execution_count": 12,
   "id": "877a2945",
   "metadata": {},
   "outputs": [
    {
     "name": "stdout",
     "output_type": "stream",
     "text": [
      "\n",
      "--- Task 4: Students with Average Score > 75 ---\n",
      "Using row-wise mean and boolean indexing\n",
      "Average scores per student: [82.2 70.  90.  60.  82.6 75. ]\n",
      "\n",
      "Students with average > 75:\n",
      "[[78 85 88 70 90]\n",
      " [90 88 85 92 95]\n",
      " [85 82 80 78 88]]\n",
      "\n",
      "Explanation:\n",
      "  - np.mean(scores, axis=1) calculates average for each row (student)\n",
      "  - row_averages > 75 creates a boolean mask\n",
      "  - scores[mask] returns only students with average > 75\n"
     ]
    }
   ],
   "source": [
    "# Task 4: Extract students with average score > 75\n",
    "print(\"\\n--- Task 4: Students with Average Score > 75 ---\")\n",
    "print(\"Using row-wise mean and boolean indexing\")\n",
    "row_averages = np.mean(scores, axis=1)  # axis=1 means calculate mean across columns (row-wise)\n",
    "print(\"Average scores per student:\", row_averages)\n",
    "high_avg_students = scores[row_averages > 75]\n",
    "print(\"\\nStudents with average > 75:\")\n",
    "print(high_avg_students)\n",
    "print(\"\\nExplanation:\")\n",
    "print(\"  - np.mean(scores, axis=1) calculates average for each row (student)\")\n",
    "print(\"  - row_averages > 75 creates a boolean mask\")\n",
    "print(\"  - scores[mask] returns only students with average > 75\")"
   ]
  },
  {
   "cell_type": "code",
   "execution_count": 14,
   "id": "afb1974e",
   "metadata": {},
   "outputs": [
    {
     "name": "stdout",
     "output_type": "stream",
     "text": [
      "\n",
      "--- TASK A2: Score Summary ---\n",
      "\n"
     ]
    }
   ],
   "source": [
    "# ============================================================================\n",
    "# Task A2: Score Summary\n",
    "# ============================================================================\n",
    "print(\"\\n--- TASK A2: Score Summary ---\\n\")"
   ]
  },
  {
   "cell_type": "code",
   "execution_count": 15,
   "id": "bd4d717c",
   "metadata": {},
   "outputs": [
    {
     "name": "stdout",
     "output_type": "stream",
     "text": [
      "1. Average Score Per Subject (Column-wise):\n",
      "   Math: 73.33\n",
      "   Science: 75.83\n",
      "   English: 76.50\n",
      "   History: 75.17\n",
      "   Computers: 82.33\n"
     ]
    }
   ],
   "source": [
    "# Calculate average score per subject (column-wise)\n",
    "print(\"1. Average Score Per Subject (Column-wise):\")\n",
    "subject_averages = np.mean(scores, axis=0)  # axis=0 means calculate mean down columns\n",
    "for i, subject in enumerate(subjects):\n",
    "    print(f\"   {subject}: {subject_averages[i]:.2f}\")"
   ]
  },
  {
   "cell_type": "code",
   "execution_count": 16,
   "id": "d96356f6",
   "metadata": {},
   "outputs": [
    {
     "name": "stdout",
     "output_type": "stream",
     "text": [
      "\n",
      "2. Highest and Lowest Scores Per Subject:\n",
      "   Math: Max=90, Min=55\n",
      "   Science: Max=88, Min=60\n",
      "   English: Max=88, Min=58\n",
      "   History: Max=92, Min=62\n",
      "   Computers: Max=95, Min=65\n"
     ]
    }
   ],
   "source": [
    "# Find highest and lowest scores per subject\n",
    "print(\"\\n2. Highest and Lowest Scores Per Subject:\")\n",
    "subject_max = np.max(scores, axis=0)\n",
    "subject_min = np.min(scores, axis=0)\n",
    "for i, subject in enumerate(subjects):\n",
    "    print(f\"   {subject}: Max={subject_max[i]}, Min={subject_min[i]}\")"
   ]
  },
  {
   "cell_type": "code",
   "execution_count": 17,
   "id": "531e67b0",
   "metadata": {},
   "outputs": [
    {
     "name": "stdout",
     "output_type": "stream",
     "text": [
      "\n",
      "3. Subject with Highest Overall Average:\n",
      "   Computers with average score of 82.33\n"
     ]
    }
   ],
   "source": [
    "# Find which subject had the highest overall average\n",
    "print(\"\\n3. Subject with Highest Overall Average:\")\n",
    "highest_avg_idx = np.argmax(subject_averages)\n",
    "highest_avg_subject = subjects[highest_avg_idx]\n",
    "highest_avg_value = subject_averages[highest_avg_idx]\n",
    "print(f\"   {highest_avg_subject} with average score of {highest_avg_value:.2f}\")\n"
   ]
  },
  {
   "cell_type": "code",
   "execution_count": 19,
   "id": "96fd4d7b",
   "metadata": {},
   "outputs": [
    {
     "name": "stdout",
     "output_type": "stream",
     "text": [
      "\n",
      "================================================================================\n",
      "SECTION B: Pandas Series — Attendance Analysis\n",
      "================================================================================\n"
     ]
    }
   ],
   "source": [
    "# ============================================================================\n",
    "# SECTION B: Pandas Series — Attendance Analysis\n",
    "# ============================================================================\n",
    "print(\"\\n\" + \"=\" * 80)\n",
    "print(\"SECTION B: Pandas Series — Attendance Analysis\")\n",
    "print(\"=\" * 80)"
   ]
  },
  {
   "cell_type": "code",
   "execution_count": 20,
   "id": "ee1cf1e2",
   "metadata": {},
   "outputs": [
    {
     "name": "stdout",
     "output_type": "stream",
     "text": [
      "\n",
      "--- TASK B1: Creating a Series ---\n",
      "\n",
      "Attendance Data (as Pandas Series):\n",
      "S1    92\n",
      "S2    80\n",
      "S3    95\n",
      "S4    70\n",
      "S5    88\n",
      "S6    85\n",
      "Name: Attendance (%), dtype: int64\n",
      "\n",
      "Explanation:\n",
      "  - Values: [92, 80, 95, 70, 88, 85] are attendance percentages\n",
      "  - Index: [S1, S2, S3, S4, S5, S6] are student labels\n",
      "  - Labels make it easier to reference data than numeric indices\n"
     ]
    }
   ],
   "source": [
    "# Task B1: Creating a Series\n",
    "print(\"\\n--- TASK B1: Creating a Series ---\\n\")\n",
    "\n",
    "# Create a Pandas Series with attendance data\n",
    "attendance = pd.Series(\n",
    "    [92, 80, 95, 70, 88, 85],\n",
    "    index=[\"S1\", \"S2\", \"S3\", \"S4\", \"S5\", \"S6\"],\n",
    "    name=\"Attendance (%)\"\n",
    ")\n",
    "\n",
    "print(\"Attendance Data (as Pandas Series):\")\n",
    "print(attendance)\n",
    "print(\"\\nExplanation:\")\n",
    "print(\"  - Values: [92, 80, 95, 70, 88, 85] are attendance percentages\")\n",
    "print(\"  - Index: [S1, S2, S3, S4, S5, S6] are student labels\")\n",
    "print(\"  - Labels make it easier to reference data than numeric indices\")"
   ]
  },
  {
   "cell_type": "code",
   "execution_count": 21,
   "id": "de505300",
   "metadata": {},
   "outputs": [
    {
     "name": "stdout",
     "output_type": "stream",
     "text": [
      "\n",
      "--- Task 1: Students with Attendance Below 85% ---\n",
      "Using boolean indexing: attendance[attendance < 85]\n",
      "S2    80\n",
      "S4    70\n",
      "Name: Attendance (%), dtype: int64\n",
      "\n",
      "Explanation:\n",
      "  - attendance < 85 creates a boolean Series [True/False for each student]\n",
      "  - attendance[mask] returns only students where mask is True\n"
     ]
    }
   ],
   "source": [
    "# Task 1: Find students with attendance below 85%\n",
    "print(\"\\n--- Task 1: Students with Attendance Below 85% ---\")\n",
    "print(\"Using boolean indexing: attendance[attendance < 85]\")\n",
    "below_85 = attendance[attendance < 85]\n",
    "print(below_85)\n",
    "print(\"\\nExplanation:\")\n",
    "print(\"  - attendance < 85 creates a boolean Series [True/False for each student]\")\n",
    "print(\"  - attendance[mask] returns only students where mask is True\")\n"
   ]
  },
  {
   "cell_type": "code",
   "execution_count": 22,
   "id": "9b554775",
   "metadata": {},
   "outputs": [
    {
     "name": "stdout",
     "output_type": "stream",
     "text": [
      "\n",
      "--- Task 2: Count Students with Attendance >= 90% ---\n",
      "Students with attendance >= 90%: {'S1': 92, 'S3': 95}\n",
      "Total count: 2\n"
     ]
    }
   ],
   "source": [
    "# Task 2: Count students with attendance >= 90%\n",
    "print(\"\\n--- Task 2: Count Students with Attendance >= 90% ---\")\n",
    "above_90 = attendance[attendance >= 90]\n",
    "count_above_90 = len(above_90)\n",
    "print(f\"Students with attendance >= 90%: {above_90.to_dict()}\")\n",
    "print(f\"Total count: {count_above_90}\")"
   ]
  },
  {
   "cell_type": "code",
   "execution_count": 23,
   "id": "8d07fd49",
   "metadata": {},
   "outputs": [
    {
     "name": "stdout",
     "output_type": "stream",
     "text": [
      "\n",
      "--- Task 3: Average Attendance ---\n",
      "Average attendance: 85.00%\n"
     ]
    }
   ],
   "source": [
    "# Task 3: Calculate average attendance\n",
    "print(\"\\n--- Task 3: Average Attendance ---\")\n",
    "avg_attendance = attendance.mean()\n",
    "print(f\"Average attendance: {avg_attendance:.2f}%\")"
   ]
  },
  {
   "cell_type": "code",
   "execution_count": 24,
   "id": "99f05c30",
   "metadata": {},
   "outputs": [
    {
     "name": "stdout",
     "output_type": "stream",
     "text": [
      "\n",
      "--- TASK B2: Combining Series with NumPy Results ---\n",
      "\n"
     ]
    }
   ],
   "source": [
    "# ============================================================================\n",
    "# Task B2: Combining Series with NumPy Results\n",
    "# ============================================================================\n",
    "\n",
    "print(\"\\n--- TASK B2: Combining Series with NumPy Results ---\\n\")"
   ]
  },
  {
   "cell_type": "code",
   "execution_count": 26,
   "id": "67199dc7",
   "metadata": {},
   "outputs": [
    {
     "name": "stdout",
     "output_type": "stream",
     "text": [
      "1. Computing Average Score Per Student:\n",
      "   Student averages: [82.2 70.  90.  60.  82.6 75. ]\n",
      "\n",
      "2. Creating Pandas Series with Student Labels:\n",
      "S1    82.2\n",
      "S2    70.0\n",
      "S3    90.0\n",
      "S4    60.0\n",
      "S5    82.6\n",
      "S6    75.0\n",
      "Name: Average Score, dtype: float64\n",
      "\n",
      "3. Students Meeting BOTH Criteria:\n",
      "   Criteria: Average Score > 75 AND Attendance >= 85%\n",
      "\n",
      "Students meeting both criteria:\n",
      "    Average Score  Attendance (%)\n",
      "S1           82.2              92\n",
      "S3           90.0              95\n",
      "S5           82.6              88\n",
      "\n",
      "Explanation:\n",
      "  - high_score_mask = avg_scores_series > 75\n",
      "  - high_attendance_mask = attendance >= 85\n",
      "  - both_criteria = high_score_mask & high_attendance_mask\n",
      "  - The & operator combines boolean masks (AND logic)\n",
      "\n",
      "================================================================================\n",
      "SUMMARY AND INSIGHTS\n",
      "================================================================================\n",
      "\n",
      "Key Findings:\n",
      "1. Best performing subject: Computers (avg: 82.33)\n",
      "2. Students with excellent performance (avg > 75 AND attendance >= 85%): 3\n",
      "3. Overall class average attendance: 85.00%\n",
      "4. Students needing improvement (avg <= 75): 3\n",
      "\n",
      "================================================================================\n",
      "END OF ANALYSIS\n",
      "================================================================================\n"
     ]
    }
   ],
   "source": [
    "# Step 1: Compute average score per student from NumPy array\n",
    "print(\"1. Computing Average Score Per Student:\")\n",
    "student_averages = np.mean(scores, axis=1)\n",
    "print(\"   Student averages:\", student_averages)\n",
    "\n",
    "# Step 2: Create a Pandas Series with same student labels\n",
    "print(\"\\n2. Creating Pandas Series with Student Labels:\")\n",
    "avg_scores_series = pd.Series(\n",
    "    student_averages,\n",
    "    index=[\"S1\", \"S2\", \"S3\", \"S4\", \"S5\", \"S6\"],\n",
    "    name=\"Average Score\"\n",
    ")\n",
    "print(avg_scores_series)\n",
    "\n",
    "# Step 3: Identify students with both conditions:\n",
    "#         - Average score > 75\n",
    "#         - Attendance >= 85%\n",
    "print(\"\\n3. Students Meeting BOTH Criteria:\")\n",
    "print(\"   Criteria: Average Score > 75 AND Attendance >= 85%\\n\")\n",
    "\n",
    "# Create boolean masks for both conditions\n",
    "high_score_mask = avg_scores_series > 75\n",
    "high_attendance_mask = attendance >= 85\n",
    "\n",
    "# Combine masks using & (AND operator)\n",
    "both_criteria = high_score_mask & high_attendance_mask\n",
    "\n",
    "print(\"Students meeting both criteria:\")\n",
    "qualifying_students = pd.DataFrame({\n",
    "    'Average Score': avg_scores_series[both_criteria],\n",
    "    'Attendance (%)': attendance[both_criteria]\n",
    "})\n",
    "print(qualifying_students)\n",
    "\n",
    "print(\"\\nExplanation:\")\n",
    "print(\"  - high_score_mask = avg_scores_series > 75\")\n",
    "print(\"  - high_attendance_mask = attendance >= 85\")\n",
    "print(\"  - both_criteria = high_score_mask & high_attendance_mask\")\n",
    "print(\"  - The & operator combines boolean masks (AND logic)\")\n",
    "\n",
    "# ============================================================================\n",
    "# SUMMARY AND INSIGHTS\n",
    "# ============================================================================\n",
    "\n",
    "print(\"\\n\" + \"=\" * 80)\n",
    "print(\"SUMMARY AND INSIGHTS\")\n",
    "print(\"=\" * 80)\n",
    "\n",
    "print(\"\\nKey Findings:\")\n",
    "print(f\"1. Best performing subject: {highest_avg_subject} (avg: {highest_avg_value:.2f})\")\n",
    "print(f\"2. Students with excellent performance (avg > 75 AND attendance >= 85%): {len(qualifying_students)}\")\n",
    "print(f\"3. Overall class average attendance: {avg_attendance:.2f}%\")\n",
    "print(f\"4. Students needing improvement (avg <= 75): {len(avg_scores_series[avg_scores_series <= 75])}\")\n",
    "\n",
    "print(\"\\n\" + \"=\" * 80)\n",
    "print(\"END OF ANALYSIS\")\n",
    "print(\"=\" * 80)\n"
   ]
  },
  {
   "cell_type": "code",
   "execution_count": null,
   "id": "bd41659a",
   "metadata": {},
   "outputs": [],
   "source": []
  }
 ],
 "metadata": {
  "kernelspec": {
   "display_name": "Python 3 (ipykernel)",
   "language": "python",
   "name": "python3"
  },
  "language_info": {
   "codemirror_mode": {
    "name": "ipython",
    "version": 3
   },
   "file_extension": ".py",
   "mimetype": "text/x-python",
   "name": "python",
   "nbconvert_exporter": "python",
   "pygments_lexer": "ipython3",
   "version": "3.11.3"
  }
 },
 "nbformat": 4,
 "nbformat_minor": 5
}
